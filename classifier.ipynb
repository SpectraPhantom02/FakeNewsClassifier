{
 "cells": [
  {
   "cell_type": "markdown",
   "id": "affecting-darkness",
   "metadata": {},
   "source": [
    "# Classification models and NLP in R\n",
    "***This is the follow-up notebook, in which we're going to perform classification on the dataset we constructed in the previous notebook.***"
   ]
  },
  {
   "cell_type": "code",
   "execution_count": 1,
   "id": "restricted-nation",
   "metadata": {},
   "outputs": [
    {
     "name": "stderr",
     "output_type": "stream",
     "text": [
      "Loading required package: lattice\n",
      "Loading required package: ggplot2\n",
      "Registered S3 methods overwritten by 'ggplot2':\n",
      "  method         from \n",
      "  [.quosures     rlang\n",
      "  c.quosures     rlang\n",
      "  print.quosures rlang\n",
      "Updating HTML index of packages in '.Library'\n",
      "Making 'packages.html' ... done\n",
      "Updating HTML index of packages in '.Library'\n",
      "Making 'packages.html' ... done\n"
     ]
    }
   ],
   "source": [
    "library(caret)\n",
    "install.packages('e1071', dependencies = TRUE)\n",
    "install.packages('kernlab', dependencies = TRUE)\n",
    "\n",
    "X_train <- read.csv('xtrain.csv', header = TRUE)\n",
    "X_train <- data.frame(X_train)\n",
    "\n",
    "X_test <- read.csv('xtest.csv', header = TRUE)\n",
    "X_test <- data.frame(X_test)\n",
    "\n",
    "y_train <- read.csv('ytrain.csv', header = TRUE)\n",
    "y_train <- data.frame(y_train)\n",
    "\n",
    "y_test <- read.csv('ytest.csv', header = TRUE)\n",
    "y_test <- data.frame(y_test)"
   ]
  },
  {
   "cell_type": "code",
   "execution_count": 2,
   "id": "national-confirmation",
   "metadata": {},
   "outputs": [
    {
     "data": {
      "text/html": [
       "<table>\n",
       "<thead><tr><th scope=col>X</th><th scope=col>peri_title</th><th scope=col>comm_title</th><th scope=col>ques_title</th><th scope=col>excl_title</th><th scope=col>peri_text</th><th scope=col>comm_text</th><th scope=col>ques_text</th><th scope=col>excl_text</th><th scope=col>title_length</th><th scope=col>text_length</th><th scope=col>title_words</th></tr></thead>\n",
       "<tbody>\n",
       "\t<tr><td>35641</td><td>0    </td><td>1    </td><td>0    </td><td>1    </td><td>24   </td><td>17   </td><td>3    </td><td>0    </td><td>150  </td><td>2571 </td><td>23   </td></tr>\n",
       "\t<tr><td>43780</td><td>0    </td><td>0    </td><td>0    </td><td>0    </td><td> 4   </td><td> 6   </td><td>0    </td><td>0    </td><td> 80  </td><td> 959 </td><td>12   </td></tr>\n",
       "\t<tr><td>19131</td><td>0    </td><td>0    </td><td>0    </td><td>0    </td><td> 5   </td><td> 6   </td><td>0    </td><td>0    </td><td> 79  </td><td> 822 </td><td>13   </td></tr>\n",
       "\t<tr><td>30005</td><td>0    </td><td>0    </td><td>1    </td><td>0    </td><td>25   </td><td>36   </td><td>1    </td><td>1    </td><td> 80  </td><td>2628 </td><td>11   </td></tr>\n",
       "\t<tr><td>13663</td><td>0    </td><td>1    </td><td>0    </td><td>0    </td><td>32   </td><td>45   </td><td>0    </td><td>0    </td><td> 72  </td><td>3441 </td><td>11   </td></tr>\n",
       "\t<tr><td>33686</td><td>0    </td><td>0    </td><td>0    </td><td>0    </td><td>27   </td><td>19   </td><td>0    </td><td>0    </td><td>106  </td><td>2721 </td><td>12   </td></tr>\n",
       "</tbody>\n",
       "</table>\n"
      ],
      "text/latex": [
       "\\begin{tabular}{r|llllllllllll}\n",
       " X & peri\\_title & comm\\_title & ques\\_title & excl\\_title & peri\\_text & comm\\_text & ques\\_text & excl\\_text & title\\_length & text\\_length & title\\_words\\\\\n",
       "\\hline\n",
       "\t 35641 & 0     & 1     & 0     & 1     & 24    & 17    & 3     & 0     & 150   & 2571  & 23   \\\\\n",
       "\t 43780 & 0     & 0     & 0     & 0     &  4    &  6    & 0     & 0     &  80   &  959  & 12   \\\\\n",
       "\t 19131 & 0     & 0     & 0     & 0     &  5    &  6    & 0     & 0     &  79   &  822  & 13   \\\\\n",
       "\t 30005 & 0     & 0     & 1     & 0     & 25    & 36    & 1     & 1     &  80   & 2628  & 11   \\\\\n",
       "\t 13663 & 0     & 1     & 0     & 0     & 32    & 45    & 0     & 0     &  72   & 3441  & 11   \\\\\n",
       "\t 33686 & 0     & 0     & 0     & 0     & 27    & 19    & 0     & 0     & 106   & 2721  & 12   \\\\\n",
       "\\end{tabular}\n"
      ],
      "text/markdown": [
       "\n",
       "| X | peri_title | comm_title | ques_title | excl_title | peri_text | comm_text | ques_text | excl_text | title_length | text_length | title_words |\n",
       "|---|---|---|---|---|---|---|---|---|---|---|---|\n",
       "| 35641 | 0     | 1     | 0     | 1     | 24    | 17    | 3     | 0     | 150   | 2571  | 23    |\n",
       "| 43780 | 0     | 0     | 0     | 0     |  4    |  6    | 0     | 0     |  80   |  959  | 12    |\n",
       "| 19131 | 0     | 0     | 0     | 0     |  5    |  6    | 0     | 0     |  79   |  822  | 13    |\n",
       "| 30005 | 0     | 0     | 1     | 0     | 25    | 36    | 1     | 1     |  80   | 2628  | 11    |\n",
       "| 13663 | 0     | 1     | 0     | 0     | 32    | 45    | 0     | 0     |  72   | 3441  | 11    |\n",
       "| 33686 | 0     | 0     | 0     | 0     | 27    | 19    | 0     | 0     | 106   | 2721  | 12    |\n",
       "\n"
      ],
      "text/plain": [
       "  X     peri_title comm_title ques_title excl_title peri_text comm_text\n",
       "1 35641 0          1          0          1          24        17       \n",
       "2 43780 0          0          0          0           4         6       \n",
       "3 19131 0          0          0          0           5         6       \n",
       "4 30005 0          0          1          0          25        36       \n",
       "5 13663 0          1          0          0          32        45       \n",
       "6 33686 0          0          0          0          27        19       \n",
       "  ques_text excl_text title_length text_length title_words\n",
       "1 3         0         150          2571        23         \n",
       "2 0         0          80           959        12         \n",
       "3 0         0          79           822        13         \n",
       "4 1         1          80          2628        11         \n",
       "5 0         0          72          3441        11         \n",
       "6 0         0         106          2721        12         "
      ]
     },
     "metadata": {},
     "output_type": "display_data"
    }
   ],
   "source": [
    "head(X_train)"
   ]
  },
  {
   "cell_type": "code",
   "execution_count": 3,
   "id": "employed-nurse",
   "metadata": {},
   "outputs": [
    {
     "data": {
      "text/html": [
       "'data.frame'"
      ],
      "text/latex": [
       "'data.frame'"
      ],
      "text/markdown": [
       "'data.frame'"
      ],
      "text/plain": [
       "[1] \"data.frame\""
      ]
     },
     "metadata": {},
     "output_type": "display_data"
    }
   ],
   "source": [
    "class(X_train)"
   ]
  },
  {
   "cell_type": "code",
   "execution_count": 4,
   "id": "choice-discount",
   "metadata": {},
   "outputs": [
    {
     "data": {
      "text/html": [
       "<table>\n",
       "<thead><tr><th scope=col>X</th><th scope=col>is_fake</th></tr></thead>\n",
       "<tbody>\n",
       "\t<tr><td>34059</td><td>1    </td></tr>\n",
       "\t<tr><td>10347</td><td>0    </td></tr>\n",
       "\t<tr><td>25271</td><td>1    </td></tr>\n",
       "\t<tr><td> 1750</td><td>0    </td></tr>\n",
       "\t<tr><td>29550</td><td>1    </td></tr>\n",
       "\t<tr><td>39599</td><td>1    </td></tr>\n",
       "</tbody>\n",
       "</table>\n"
      ],
      "text/latex": [
       "\\begin{tabular}{r|ll}\n",
       " X & is\\_fake\\\\\n",
       "\\hline\n",
       "\t 34059 & 1    \\\\\n",
       "\t 10347 & 0    \\\\\n",
       "\t 25271 & 1    \\\\\n",
       "\t  1750 & 0    \\\\\n",
       "\t 29550 & 1    \\\\\n",
       "\t 39599 & 1    \\\\\n",
       "\\end{tabular}\n"
      ],
      "text/markdown": [
       "\n",
       "| X | is_fake |\n",
       "|---|---|\n",
       "| 34059 | 1     |\n",
       "| 10347 | 0     |\n",
       "| 25271 | 1     |\n",
       "|  1750 | 0     |\n",
       "| 29550 | 1     |\n",
       "| 39599 | 1     |\n",
       "\n"
      ],
      "text/plain": [
       "  X     is_fake\n",
       "1 34059 1      \n",
       "2 10347 0      \n",
       "3 25271 1      \n",
       "4  1750 0      \n",
       "5 29550 1      \n",
       "6 39599 1      "
      ]
     },
     "metadata": {},
     "output_type": "display_data"
    }
   ],
   "source": [
    "head(y_test)"
   ]
  },
  {
   "cell_type": "code",
   "execution_count": 5,
   "id": "flexible-tension",
   "metadata": {},
   "outputs": [
    {
     "data": {
      "text/html": [
       "'data.frame'"
      ],
      "text/latex": [
       "'data.frame'"
      ],
      "text/markdown": [
       "'data.frame'"
      ],
      "text/plain": [
       "[1] \"data.frame\""
      ]
     },
     "metadata": {},
     "output_type": "display_data"
    }
   ],
   "source": [
    "class(y_test)"
   ]
  },
  {
   "cell_type": "code",
   "execution_count": 6,
   "id": "roman-greene",
   "metadata": {},
   "outputs": [
    {
     "data": {
      "text/html": [
       "<table>\n",
       "<thead><tr><th scope=col>X</th><th scope=col>peri_title</th><th scope=col>comm_title</th><th scope=col>ques_title</th><th scope=col>excl_title</th><th scope=col>peri_text</th><th scope=col>comm_text</th><th scope=col>ques_text</th><th scope=col>excl_text</th><th scope=col>title_length</th><th scope=col>text_length</th><th scope=col>title_words</th></tr></thead>\n",
       "<tbody>\n",
       "\t<tr><td>34059</td><td>0    </td><td>2    </td><td>0    </td><td>0    </td><td>51   </td><td>42   </td><td>3    </td><td>0    </td><td>125  </td><td>4473 </td><td>17   </td></tr>\n",
       "\t<tr><td>10347</td><td>0    </td><td>0    </td><td>0    </td><td>0    </td><td> 4   </td><td> 2   </td><td>0    </td><td>0    </td><td> 56  </td><td> 518 </td><td> 9   </td></tr>\n",
       "\t<tr><td>25271</td><td>0    </td><td>0    </td><td>0    </td><td>0    </td><td>12   </td><td>16   </td><td>1    </td><td>1    </td><td>103  </td><td>1877 </td><td>17   </td></tr>\n",
       "\t<tr><td> 1750</td><td>2    </td><td>1    </td><td>0    </td><td>0    </td><td>23   </td><td>23   </td><td>0    </td><td>0    </td><td> 68  </td><td>3595 </td><td> 8   </td></tr>\n",
       "\t<tr><td>29550</td><td>0    </td><td>1    </td><td>0    </td><td>0    </td><td>19   </td><td>21   </td><td>2    </td><td>0    </td><td> 81  </td><td>2615 </td><td>13   </td></tr>\n",
       "\t<tr><td>39599</td><td>0    </td><td>0    </td><td>0    </td><td>1    </td><td>13   </td><td>21   </td><td>0    </td><td>0    </td><td>135  </td><td>2143 </td><td>18   </td></tr>\n",
       "</tbody>\n",
       "</table>\n"
      ],
      "text/latex": [
       "\\begin{tabular}{r|llllllllllll}\n",
       " X & peri\\_title & comm\\_title & ques\\_title & excl\\_title & peri\\_text & comm\\_text & ques\\_text & excl\\_text & title\\_length & text\\_length & title\\_words\\\\\n",
       "\\hline\n",
       "\t 34059 & 0     & 2     & 0     & 0     & 51    & 42    & 3     & 0     & 125   & 4473  & 17   \\\\\n",
       "\t 10347 & 0     & 0     & 0     & 0     &  4    &  2    & 0     & 0     &  56   &  518  &  9   \\\\\n",
       "\t 25271 & 0     & 0     & 0     & 0     & 12    & 16    & 1     & 1     & 103   & 1877  & 17   \\\\\n",
       "\t  1750 & 2     & 1     & 0     & 0     & 23    & 23    & 0     & 0     &  68   & 3595  &  8   \\\\\n",
       "\t 29550 & 0     & 1     & 0     & 0     & 19    & 21    & 2     & 0     &  81   & 2615  & 13   \\\\\n",
       "\t 39599 & 0     & 0     & 0     & 1     & 13    & 21    & 0     & 0     & 135   & 2143  & 18   \\\\\n",
       "\\end{tabular}\n"
      ],
      "text/markdown": [
       "\n",
       "| X | peri_title | comm_title | ques_title | excl_title | peri_text | comm_text | ques_text | excl_text | title_length | text_length | title_words |\n",
       "|---|---|---|---|---|---|---|---|---|---|---|---|\n",
       "| 34059 | 0     | 2     | 0     | 0     | 51    | 42    | 3     | 0     | 125   | 4473  | 17    |\n",
       "| 10347 | 0     | 0     | 0     | 0     |  4    |  2    | 0     | 0     |  56   |  518  |  9    |\n",
       "| 25271 | 0     | 0     | 0     | 0     | 12    | 16    | 1     | 1     | 103   | 1877  | 17    |\n",
       "|  1750 | 2     | 1     | 0     | 0     | 23    | 23    | 0     | 0     |  68   | 3595  |  8    |\n",
       "| 29550 | 0     | 1     | 0     | 0     | 19    | 21    | 2     | 0     |  81   | 2615  | 13    |\n",
       "| 39599 | 0     | 0     | 0     | 1     | 13    | 21    | 0     | 0     | 135   | 2143  | 18    |\n",
       "\n"
      ],
      "text/plain": [
       "  X     peri_title comm_title ques_title excl_title peri_text comm_text\n",
       "1 34059 0          2          0          0          51        42       \n",
       "2 10347 0          0          0          0           4         2       \n",
       "3 25271 0          0          0          0          12        16       \n",
       "4  1750 2          1          0          0          23        23       \n",
       "5 29550 0          1          0          0          19        21       \n",
       "6 39599 0          0          0          1          13        21       \n",
       "  ques_text excl_text title_length text_length title_words\n",
       "1 3         0         125          4473        17         \n",
       "2 0         0          56           518         9         \n",
       "3 1         1         103          1877        17         \n",
       "4 0         0          68          3595         8         \n",
       "5 2         0          81          2615        13         \n",
       "6 0         0         135          2143        18         "
      ]
     },
     "metadata": {},
     "output_type": "display_data"
    }
   ],
   "source": [
    "head(X_test)"
   ]
  },
  {
   "cell_type": "code",
   "execution_count": 7,
   "id": "furnished-lambda",
   "metadata": {},
   "outputs": [
    {
     "data": {
      "text/html": [
       "<table>\n",
       "<thead><tr><th scope=col>X</th><th scope=col>is_fake</th></tr></thead>\n",
       "<tbody>\n",
       "\t<tr><td>35641</td><td>1    </td></tr>\n",
       "\t<tr><td>43780</td><td>1    </td></tr>\n",
       "\t<tr><td>19131</td><td>0    </td></tr>\n",
       "\t<tr><td>30005</td><td>1    </td></tr>\n",
       "\t<tr><td>13663</td><td>0    </td></tr>\n",
       "\t<tr><td>33686</td><td>1    </td></tr>\n",
       "</tbody>\n",
       "</table>\n"
      ],
      "text/latex": [
       "\\begin{tabular}{r|ll}\n",
       " X & is\\_fake\\\\\n",
       "\\hline\n",
       "\t 35641 & 1    \\\\\n",
       "\t 43780 & 1    \\\\\n",
       "\t 19131 & 0    \\\\\n",
       "\t 30005 & 1    \\\\\n",
       "\t 13663 & 0    \\\\\n",
       "\t 33686 & 1    \\\\\n",
       "\\end{tabular}\n"
      ],
      "text/markdown": [
       "\n",
       "| X | is_fake |\n",
       "|---|---|\n",
       "| 35641 | 1     |\n",
       "| 43780 | 1     |\n",
       "| 19131 | 0     |\n",
       "| 30005 | 1     |\n",
       "| 13663 | 0     |\n",
       "| 33686 | 1     |\n",
       "\n"
      ],
      "text/plain": [
       "  X     is_fake\n",
       "1 35641 1      \n",
       "2 43780 1      \n",
       "3 19131 0      \n",
       "4 30005 1      \n",
       "5 13663 0      \n",
       "6 33686 1      "
      ]
     },
     "metadata": {},
     "output_type": "display_data"
    }
   ],
   "source": [
    "head(y_train)"
   ]
  },
  {
   "cell_type": "code",
   "execution_count": 8,
   "id": "passive-white",
   "metadata": {},
   "outputs": [
    {
     "data": {
      "text/html": [
       "<table>\n",
       "<thead><tr><th></th><th scope=col>peri_title</th><th scope=col>comm_title</th><th scope=col>ques_title</th><th scope=col>excl_title</th><th scope=col>peri_text</th><th scope=col>comm_text</th><th scope=col>ques_text</th><th scope=col>excl_text</th><th scope=col>title_length</th><th scope=col>text_length</th><th scope=col>title_words</th><th scope=col>is_fake</th></tr></thead>\n",
       "<tbody>\n",
       "\t<tr><th scope=row>0</th><td>2   </td><td>1   </td><td>0   </td><td>0   </td><td>49  </td><td>54  </td><td>0   </td><td>0   </td><td>64  </td><td>4659</td><td>10  </td><td>0   </td></tr>\n",
       "\t<tr><th scope=row>1</th><td>2   </td><td>0   </td><td>0   </td><td>0   </td><td>37  </td><td>29  </td><td>0   </td><td>0   </td><td>64  </td><td>4077</td><td> 9  </td><td>0   </td></tr>\n",
       "\t<tr><th scope=row>2</th><td>3   </td><td>0   </td><td>0   </td><td>0   </td><td>22  </td><td>19  </td><td>0   </td><td>0   </td><td>60  </td><td>2789</td><td>10  </td><td>0   </td></tr>\n",
       "\t<tr><th scope=row>4</th><td>0   </td><td>0   </td><td>0   </td><td>0   </td><td>58  </td><td>51  </td><td>1   </td><td>1   </td><td>69  </td><td>5204</td><td>11  </td><td>0   </td></tr>\n",
       "\t<tr><th scope=row>5</th><td>0   </td><td>2   </td><td>0   </td><td>0   </td><td>36  </td><td>31  </td><td>0   </td><td>0   </td><td>64  </td><td>3707</td><td> 9  </td><td>0   </td></tr>\n",
       "\t<tr><th scope=row>7</th><td>0   </td><td>1   </td><td>0   </td><td>0   </td><td>12  </td><td> 9  </td><td>1   </td><td>2   </td><td>60  </td><td> 856</td><td>10  </td><td>0   </td></tr>\n",
       "</tbody>\n",
       "</table>\n"
      ],
      "text/latex": [
       "\\begin{tabular}{r|llllllllllll}\n",
       "  & peri\\_title & comm\\_title & ques\\_title & excl\\_title & peri\\_text & comm\\_text & ques\\_text & excl\\_text & title\\_length & text\\_length & title\\_words & is\\_fake\\\\\n",
       "\\hline\n",
       "\t0 & 2    & 1    & 0    & 0    & 49   & 54   & 0    & 0    & 64   & 4659 & 10   & 0   \\\\\n",
       "\t1 & 2    & 0    & 0    & 0    & 37   & 29   & 0    & 0    & 64   & 4077 &  9   & 0   \\\\\n",
       "\t2 & 3    & 0    & 0    & 0    & 22   & 19   & 0    & 0    & 60   & 2789 & 10   & 0   \\\\\n",
       "\t4 & 0    & 0    & 0    & 0    & 58   & 51   & 1    & 1    & 69   & 5204 & 11   & 0   \\\\\n",
       "\t5 & 0    & 2    & 0    & 0    & 36   & 31   & 0    & 0    & 64   & 3707 &  9   & 0   \\\\\n",
       "\t7 & 0    & 1    & 0    & 0    & 12   &  9   & 1    & 2    & 60   &  856 & 10   & 0   \\\\\n",
       "\\end{tabular}\n"
      ],
      "text/markdown": [
       "\n",
       "| <!--/--> | peri_title | comm_title | ques_title | excl_title | peri_text | comm_text | ques_text | excl_text | title_length | text_length | title_words | is_fake |\n",
       "|---|---|---|---|---|---|---|---|---|---|---|---|---|\n",
       "| 0 | 2    | 1    | 0    | 0    | 49   | 54   | 0    | 0    | 64   | 4659 | 10   | 0    |\n",
       "| 1 | 2    | 0    | 0    | 0    | 37   | 29   | 0    | 0    | 64   | 4077 |  9   | 0    |\n",
       "| 2 | 3    | 0    | 0    | 0    | 22   | 19   | 0    | 0    | 60   | 2789 | 10   | 0    |\n",
       "| 4 | 0    | 0    | 0    | 0    | 58   | 51   | 1    | 1    | 69   | 5204 | 11   | 0    |\n",
       "| 5 | 0    | 2    | 0    | 0    | 36   | 31   | 0    | 0    | 64   | 3707 |  9   | 0    |\n",
       "| 7 | 0    | 1    | 0    | 0    | 12   |  9   | 1    | 2    | 60   |  856 | 10   | 0    |\n",
       "\n"
      ],
      "text/plain": [
       "  peri_title comm_title ques_title excl_title peri_text comm_text ques_text\n",
       "0 2          1          0          0          49        54        0        \n",
       "1 2          0          0          0          37        29        0        \n",
       "2 3          0          0          0          22        19        0        \n",
       "4 0          0          0          0          58        51        1        \n",
       "5 0          2          0          0          36        31        0        \n",
       "7 0          1          0          0          12         9        1        \n",
       "  excl_text title_length text_length title_words is_fake\n",
       "0 0         64           4659        10          0      \n",
       "1 0         64           4077         9          0      \n",
       "2 0         60           2789        10          0      \n",
       "4 1         69           5204        11          0      \n",
       "5 0         64           3707         9          0      \n",
       "7 2         60            856        10          0      "
      ]
     },
     "metadata": {},
     "output_type": "display_data"
    }
   ],
   "source": [
    "train <- merge(X_train, y_train)\n",
    "row.names(train) <- train$X\n",
    "train <- train[-1]\n",
    "train$is_fake <- as.factor(train$is_fake)\n",
    "head(train)"
   ]
  },
  {
   "cell_type": "code",
   "execution_count": 9,
   "id": "protective-camping",
   "metadata": {},
   "outputs": [
    {
     "data": {
      "text/html": [
       "<table>\n",
       "<thead><tr><th></th><th scope=col>peri_title</th><th scope=col>comm_title</th><th scope=col>ques_title</th><th scope=col>excl_title</th><th scope=col>peri_text</th><th scope=col>comm_text</th><th scope=col>ques_text</th><th scope=col>excl_text</th><th scope=col>title_length</th><th scope=col>text_length</th><th scope=col>title_words</th><th scope=col>is_fake</th></tr></thead>\n",
       "<tbody>\n",
       "\t<tr><th scope=row>3</th><td>0   </td><td>0   </td><td>0   </td><td>0   </td><td>21  </td><td>23  </td><td>0   </td><td>0   </td><td>59  </td><td>2461</td><td> 9  </td><td>0   </td></tr>\n",
       "\t<tr><th scope=row>6</th><td>0   </td><td>1   </td><td>0   </td><td>0   </td><td>36  </td><td>22  </td><td>0   </td><td>0   </td><td>63  </td><td>3220</td><td>11  </td><td>0   </td></tr>\n",
       "\t<tr><th scope=row>11</th><td>0   </td><td>0   </td><td>0   </td><td>0   </td><td>37  </td><td>34  </td><td>0   </td><td>0   </td><td>73  </td><td>3829</td><td>10  </td><td>0   </td></tr>\n",
       "\t<tr><th scope=row>31</th><td>0   </td><td>0   </td><td>0   </td><td>0   </td><td>14  </td><td>15  </td><td>0   </td><td>0   </td><td>53  </td><td>1375</td><td> 8  </td><td>0   </td></tr>\n",
       "\t<tr><th scope=row>33</th><td>0   </td><td>0   </td><td>0   </td><td>0   </td><td>22  </td><td>16  </td><td>0   </td><td>0   </td><td>68  </td><td>2039</td><td>10  </td><td>0   </td></tr>\n",
       "\t<tr><th scope=row>36</th><td>0   </td><td>1   </td><td>0   </td><td>0   </td><td>33  </td><td>27  </td><td>0   </td><td>0   </td><td>67  </td><td>3423</td><td>10  </td><td>0   </td></tr>\n",
       "</tbody>\n",
       "</table>\n"
      ],
      "text/latex": [
       "\\begin{tabular}{r|llllllllllll}\n",
       "  & peri\\_title & comm\\_title & ques\\_title & excl\\_title & peri\\_text & comm\\_text & ques\\_text & excl\\_text & title\\_length & text\\_length & title\\_words & is\\_fake\\\\\n",
       "\\hline\n",
       "\t3 & 0    & 0    & 0    & 0    & 21   & 23   & 0    & 0    & 59   & 2461 &  9   & 0   \\\\\n",
       "\t6 & 0    & 1    & 0    & 0    & 36   & 22   & 0    & 0    & 63   & 3220 & 11   & 0   \\\\\n",
       "\t11 & 0    & 0    & 0    & 0    & 37   & 34   & 0    & 0    & 73   & 3829 & 10   & 0   \\\\\n",
       "\t31 & 0    & 0    & 0    & 0    & 14   & 15   & 0    & 0    & 53   & 1375 &  8   & 0   \\\\\n",
       "\t33 & 0    & 0    & 0    & 0    & 22   & 16   & 0    & 0    & 68   & 2039 & 10   & 0   \\\\\n",
       "\t36 & 0    & 1    & 0    & 0    & 33   & 27   & 0    & 0    & 67   & 3423 & 10   & 0   \\\\\n",
       "\\end{tabular}\n"
      ],
      "text/markdown": [
       "\n",
       "| <!--/--> | peri_title | comm_title | ques_title | excl_title | peri_text | comm_text | ques_text | excl_text | title_length | text_length | title_words | is_fake |\n",
       "|---|---|---|---|---|---|---|---|---|---|---|---|---|\n",
       "| 3 | 0    | 0    | 0    | 0    | 21   | 23   | 0    | 0    | 59   | 2461 |  9   | 0    |\n",
       "| 6 | 0    | 1    | 0    | 0    | 36   | 22   | 0    | 0    | 63   | 3220 | 11   | 0    |\n",
       "| 11 | 0    | 0    | 0    | 0    | 37   | 34   | 0    | 0    | 73   | 3829 | 10   | 0    |\n",
       "| 31 | 0    | 0    | 0    | 0    | 14   | 15   | 0    | 0    | 53   | 1375 |  8   | 0    |\n",
       "| 33 | 0    | 0    | 0    | 0    | 22   | 16   | 0    | 0    | 68   | 2039 | 10   | 0    |\n",
       "| 36 | 0    | 1    | 0    | 0    | 33   | 27   | 0    | 0    | 67   | 3423 | 10   | 0    |\n",
       "\n"
      ],
      "text/plain": [
       "   peri_title comm_title ques_title excl_title peri_text comm_text ques_text\n",
       "3  0          0          0          0          21        23        0        \n",
       "6  0          1          0          0          36        22        0        \n",
       "11 0          0          0          0          37        34        0        \n",
       "31 0          0          0          0          14        15        0        \n",
       "33 0          0          0          0          22        16        0        \n",
       "36 0          1          0          0          33        27        0        \n",
       "   excl_text title_length text_length title_words is_fake\n",
       "3  0         59           2461         9          0      \n",
       "6  0         63           3220        11          0      \n",
       "11 0         73           3829        10          0      \n",
       "31 0         53           1375         8          0      \n",
       "33 0         68           2039        10          0      \n",
       "36 0         67           3423        10          0      "
      ]
     },
     "metadata": {},
     "output_type": "display_data"
    }
   ],
   "source": [
    "test <- merge(X_test, y_test)\n",
    "row.names(test) <- test$X\n",
    "test = test[-1]\n",
    "test$is_fake <- as.factor(test$is_fake)\n",
    "head(test)"
   ]
  },
  {
   "cell_type": "code",
   "execution_count": 10,
   "id": "acute-private",
   "metadata": {},
   "outputs": [
    {
     "data": {
      "text/plain": [
       "   peri_title       comm_title       ques_title        excl_title     \n",
       " Min.   :0.0000   Min.   :0.0000   Min.   :0.00000   Min.   :0.00000  \n",
       " 1st Qu.:0.0000   1st Qu.:0.0000   1st Qu.:0.00000   1st Qu.:0.00000  \n",
       " Median :0.0000   Median :0.0000   Median :0.00000   Median :0.00000  \n",
       " Mean   :0.2742   Mean   :0.2248   Mean   :0.04198   Mean   :0.08185  \n",
       " 3rd Qu.:0.0000   3rd Qu.:0.0000   3rd Qu.:0.00000   3rd Qu.:0.00000  \n",
       " Max.   :6.0000   Max.   :5.0000   Max.   :3.00000   Max.   :4.00000  \n",
       "   peri_text        comm_text        ques_text       excl_text       \n",
       " Min.   :  0.00   Min.   :  0.00   Min.   : 0.00   Min.   :  0.0000  \n",
       " 1st Qu.: 10.00   1st Qu.:  8.00   1st Qu.: 0.00   1st Qu.:  0.0000  \n",
       " Median : 18.00   Median : 17.00   Median : 0.00   Median :  0.0000  \n",
       " Mean   : 20.95   Mean   : 20.24   Mean   : 0.68   Mean   :  0.4075  \n",
       " 3rd Qu.: 27.00   3rd Qu.: 26.00   3rd Qu.: 1.00   3rd Qu.:  0.0000  \n",
       " Max.   :555.00   Max.   :518.00   Max.   :94.00   Max.   :133.0000  \n",
       "  title_length     text_length     title_words    is_fake  \n",
       " Min.   :  8.00   Min.   :    1   Min.   : 1.00   0:17113  \n",
       " 1st Qu.: 63.00   1st Qu.: 1235   1st Qu.:10.00   1:18805  \n",
       " Median : 73.00   Median : 2189   Median :11.00            \n",
       " Mean   : 80.12   Mean   : 2471   Mean   :12.46            \n",
       " 3rd Qu.: 91.00   3rd Qu.: 3104   3rd Qu.:14.00            \n",
       " Max.   :286.00   Max.   :51794   Max.   :42.00            "
      ]
     },
     "metadata": {},
     "output_type": "display_data"
    }
   ],
   "source": [
    "summary(train)"
   ]
  },
  {
   "cell_type": "code",
   "execution_count": 11,
   "id": "pending-earthquake",
   "metadata": {},
   "outputs": [
    {
     "data": {
      "text/html": [
       "<dl class=dl-horizontal>\n",
       "\t<dt>peri_title</dt>\n",
       "\t\t<dd>'integer'</dd>\n",
       "\t<dt>comm_title</dt>\n",
       "\t\t<dd>'integer'</dd>\n",
       "\t<dt>ques_title</dt>\n",
       "\t\t<dd>'integer'</dd>\n",
       "\t<dt>excl_title</dt>\n",
       "\t\t<dd>'integer'</dd>\n",
       "\t<dt>peri_text</dt>\n",
       "\t\t<dd>'integer'</dd>\n",
       "\t<dt>comm_text</dt>\n",
       "\t\t<dd>'integer'</dd>\n",
       "\t<dt>ques_text</dt>\n",
       "\t\t<dd>'integer'</dd>\n",
       "\t<dt>excl_text</dt>\n",
       "\t\t<dd>'integer'</dd>\n",
       "\t<dt>title_length</dt>\n",
       "\t\t<dd>'integer'</dd>\n",
       "\t<dt>text_length</dt>\n",
       "\t\t<dd>'integer'</dd>\n",
       "\t<dt>title_words</dt>\n",
       "\t\t<dd>'integer'</dd>\n",
       "\t<dt>is_fake</dt>\n",
       "\t\t<dd>'factor'</dd>\n",
       "</dl>\n"
      ],
      "text/latex": [
       "\\begin{description*}\n",
       "\\item[peri\\textbackslash{}\\_title] 'integer'\n",
       "\\item[comm\\textbackslash{}\\_title] 'integer'\n",
       "\\item[ques\\textbackslash{}\\_title] 'integer'\n",
       "\\item[excl\\textbackslash{}\\_title] 'integer'\n",
       "\\item[peri\\textbackslash{}\\_text] 'integer'\n",
       "\\item[comm\\textbackslash{}\\_text] 'integer'\n",
       "\\item[ques\\textbackslash{}\\_text] 'integer'\n",
       "\\item[excl\\textbackslash{}\\_text] 'integer'\n",
       "\\item[title\\textbackslash{}\\_length] 'integer'\n",
       "\\item[text\\textbackslash{}\\_length] 'integer'\n",
       "\\item[title\\textbackslash{}\\_words] 'integer'\n",
       "\\item[is\\textbackslash{}\\_fake] 'factor'\n",
       "\\end{description*}\n"
      ],
      "text/markdown": [
       "peri_title\n",
       ":   'integer'comm_title\n",
       ":   'integer'ques_title\n",
       ":   'integer'excl_title\n",
       ":   'integer'peri_text\n",
       ":   'integer'comm_text\n",
       ":   'integer'ques_text\n",
       ":   'integer'excl_text\n",
       ":   'integer'title_length\n",
       ":   'integer'text_length\n",
       ":   'integer'title_words\n",
       ":   'integer'is_fake\n",
       ":   'factor'\n",
       "\n"
      ],
      "text/plain": [
       "  peri_title   comm_title   ques_title   excl_title    peri_text    comm_text \n",
       "   \"integer\"    \"integer\"    \"integer\"    \"integer\"    \"integer\"    \"integer\" \n",
       "   ques_text    excl_text title_length  text_length  title_words      is_fake \n",
       "   \"integer\"    \"integer\"    \"integer\"    \"integer\"    \"integer\"     \"factor\" "
      ]
     },
     "metadata": {},
     "output_type": "display_data"
    }
   ],
   "source": [
    "sapply(train, class)"
   ]
  },
  {
   "cell_type": "code",
   "execution_count": 12,
   "id": "wireless-sculpture",
   "metadata": {},
   "outputs": [],
   "source": [
    "validation_index <- createDataPartition(train$is_fake, p = 0.80, list = FALSE)\n",
    "validation <- train[-validation_index,]\n",
    "train <- train[validation_index,]"
   ]
  },
  {
   "cell_type": "code",
   "execution_count": 13,
   "id": "linear-appointment",
   "metadata": {},
   "outputs": [],
   "source": [
    "control <- trainControl(method = 'cv', number = 10)\n",
    "metric <- 'Accuracy'"
   ]
  },
  {
   "cell_type": "markdown",
   "id": "through-gibson",
   "metadata": {},
   "source": [
    "***The datasets are imported successfully.***\n",
    "## LDA, CART, KNN, SVM, RF"
   ]
  },
  {
   "cell_type": "code",
   "execution_count": 14,
   "id": "medical-structure",
   "metadata": {},
   "outputs": [],
   "source": [
    "fit.lda <- train(is_fake~., data = train, method = 'lda', metric = metric, trControl = control)\n",
    "\n",
    "fit.cart <- train(is_fake~., data = train, method = 'rpart', metric = metric, trControl = control)\n",
    "\n",
    "fit.knn <- train(is_fake~., data = train, method = 'knn', metric = metric, trControl = control)\n",
    "\n",
    "fit.svm <- train(is_fake~., data = train, method = 'svmRadial', metric = metric, trControl = control)\n",
    "\n",
    "fit.rf <- train(is_fake~., data = train, method = 'rf', metric = metric, trControl = control)"
   ]
  },
  {
   "cell_type": "code",
   "execution_count": 15,
   "id": "viral-double",
   "metadata": {},
   "outputs": [
    {
     "data": {
      "text/plain": [
       "\n",
       "Call:\n",
       "summary.resamples(object = results)\n",
       "\n",
       "Models: lda, cart, knn, svm, rf \n",
       "Number of resamples: 10 \n",
       "\n",
       "Accuracy \n",
       "          Min.   1st Qu.    Median      Mean   3rd Qu.      Max. NA's\n",
       "lda  0.8573417 0.8614182 0.8659937 0.8671311 0.8717701 0.8827010    0\n",
       "cart 0.8455115 0.8511656 0.8594043 0.8589878 0.8656457 0.8726070    0\n",
       "knn  0.8458594 0.8483690 0.8515489 0.8518879 0.8521225 0.8615170    0\n",
       "svm  0.8956159 0.9056112 0.9093443 0.9094492 0.9138608 0.9206404    0\n",
       "rf   0.9200000 0.9209290 0.9232510 0.9253529 0.9277946 0.9387400    0\n",
       "\n",
       "Kappa \n",
       "          Min.   1st Qu.    Median      Mean   3rd Qu.      Max. NA's\n",
       "lda  0.7165316 0.7244100 0.7334572 0.7356931 0.7448503 0.7664068    0\n",
       "cart 0.6899407 0.7017952 0.7177877 0.7171434 0.7303124 0.7445498    0\n",
       "knn  0.6926165 0.6976618 0.7039436 0.7046970 0.7052287 0.7238707    0\n",
       "svm  0.7914240 0.8113520 0.8188763 0.8190567 0.8279073 0.8413043    0\n",
       "rf   0.8397933 0.8416872 0.8463207 0.8505057 0.8553735 0.8772169    0\n"
      ]
     },
     "metadata": {},
     "output_type": "display_data"
    }
   ],
   "source": [
    "results <- resamples(list(lda = fit.lda, cart = fit.cart, knn = fit.knn, svm = fit.svm, rf = fit.rf))\n",
    "summary(results)"
   ]
  },
  {
   "cell_type": "code",
   "execution_count": 16,
   "id": "alpha-enhancement",
   "metadata": {},
   "outputs": [
    {
     "data": {
      "image/png": "[encoded data removed]",
      "text/plain": [
       "plot without title"
      ]
     },
     "metadata": {},
     "output_type": "display_data"
    }
   ],
   "source": [
    "dotplot(results)"
   ]
  },
  {
   "cell_type": "markdown",
   "id": "demographic-frederick",
   "metadata": {},
   "source": [
    "***It appears Random Forests have the highest accuracy of all five algorithms, placed at ~92.5%. Let's make predictions on the test set using that model.***"
   ]
  },
  {
   "cell_type": "code",
   "execution_count": 17,
   "id": "functional-battle",
   "metadata": {},
   "outputs": [
    {
     "name": "stdout",
     "output_type": "stream",
     "text": [
      "Random Forest \n",
      "\n",
      "28735 samples\n",
      "   11 predictor\n",
      "    2 classes: '0', '1' \n",
      "\n",
      "No pre-processing\n",
      "Resampling: Cross-Validated (10 fold) \n",
      "Summary of sample sizes: 25862, 25862, 25862, 25860, 25862, 25861, ... \n",
      "Resampling results across tuning parameters:\n",
      "\n",
      "  mtry  Accuracy   Kappa    \n",
      "   2    0.9193321  0.8386552\n",
      "   6    0.9253529  0.8505057\n",
      "  11    0.9243089  0.8484045\n",
      "\n",
      "Accuracy was used to select the optimal model using the largest value.\n",
      "The final value used for the model was mtry = 6.\n"
     ]
    }
   ],
   "source": [
    "print(fit.rf)"
   ]
  },
  {
   "cell_type": "code",
   "execution_count": 18,
   "id": "urban-framing",
   "metadata": {},
   "outputs": [
    {
     "data": {
      "text/plain": [
       "Confusion Matrix and Statistics\n",
       "\n",
       "          Reference\n",
       "Prediction    0    1\n",
       "         0 3186  334\n",
       "         1  236 3427\n",
       "                                          \n",
       "               Accuracy : 0.9206          \n",
       "                 95% CI : (0.9142, 0.9268)\n",
       "    No Information Rate : 0.5236          \n",
       "    P-Value [Acc > NIR] : < 2.2e-16       \n",
       "                                          \n",
       "                  Kappa : 0.8411          \n",
       "                                          \n",
       " Mcnemar's Test P-Value : 4.847e-05       \n",
       "                                          \n",
       "            Sensitivity : 0.9310          \n",
       "            Specificity : 0.9112          \n",
       "         Pos Pred Value : 0.9051          \n",
       "         Neg Pred Value : 0.9356          \n",
       "             Prevalence : 0.4764          \n",
       "         Detection Rate : 0.4435          \n",
       "   Detection Prevalence : 0.4900          \n",
       "      Balanced Accuracy : 0.9211          \n",
       "                                          \n",
       "       'Positive' Class : 0               \n",
       "                                          "
      ]
     },
     "metadata": {},
     "output_type": "display_data"
    }
   ],
   "source": [
    "predictions <- predict(fit.rf, validation)\n",
    "confusionMatrix(predictions, validation$is_fake)"
   ]
  },
  {
   "cell_type": "code",
   "execution_count": 25,
   "id": "copyrighted-vitamin",
   "metadata": {},
   "outputs": [
    {
     "name": "stderr",
     "output_type": "stream",
     "text": [
      "Setting levels: control = 0, case = 1\n",
      "Setting direction: controls < cases\n"
     ]
    },
    {
     "data": {
      "text/plain": [
       "\n",
       "Call:\n",
       "roc.default(response = validation$is_fake, predictor = as.numeric(predictions),     plot = TRUE)\n",
       "\n",
       "Data: as.numeric(predictions) in 3422 controls (validation$is_fake 0) < 3761 cases (validation$is_fake 1).\n",
       "Area under the curve: 0.9211"
      ]
     },
     "metadata": {},
     "output_type": "display_data"
    },
    {
     "data": {
      "image/png": "[encoded data removed]",
      "text/plain": [
       "plot without title"
      ]
     },
     "metadata": {},
     "output_type": "display_data"
    }
   ],
   "source": [
    "library(pROC)\n",
    "\n",
    "roc(validation$is_fake, as.numeric(predictions), plot = TRUE)"
   ]
  },
  {
   "cell_type": "markdown",
   "id": "accepted-victory",
   "metadata": {},
   "source": [
    "***So, to summarize the work done in the last notebook and this one so far, we engineered our own features from the datasets and managed to attain 92%+ accuracy when classifying. Next, we're going to apply other NLP methods and see if we can get even better results.***"
   ]
  }
 ],
 "metadata": {
  "kernelspec": {
   "display_name": "R",
   "language": "R",
   "name": "ir"
  },
  "language_info": {
   "codemirror_mode": "r",
   "file_extension": ".r",
   "mimetype": "text/x-r-source",
   "name": "R",
   "pygments_lexer": "r",
   "version": "3.6.1"
  }
 },
 "nbformat": 4,
 "nbformat_minor": 5
}
